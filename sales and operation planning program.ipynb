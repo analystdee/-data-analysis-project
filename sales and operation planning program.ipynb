{
 "cells": [
  {
   "cell_type": "code",
   "execution_count": 1,
   "id": "09a9dabe-7e3b-4850-9aaf-8a8e983fd58e",
   "metadata": {
    "tags": []
   },
   "outputs": [
    {
     "name": "stdout",
     "output_type": "stream",
     "text": [
      "Please enter an initial stock level: 500\n",
      "Please enter number of months to plan 5\n",
      "Please enter planned sales quantity for month  1 =  300\n",
      "Please enter planned sales quantity for month  2 =  250\n",
      "Please enter planned sales quantity for month  3 =  200\n",
      "Please enter planned sales quantity for month  4 =  400\n",
      "Please enter planned sales quantity for month  5 =  100\n"
     ]
    },
    {
     "name": "stdout",
     "output_type": "stream",
     "text": [
      "\n",
      "Production quantity month 1  -  0\n",
      "Production quantity month 2  -  50\n",
      "Production quantity month 3  -  200\n",
      "Production quantity month 4  -  400\n",
      "Production quantity month 5  -  100\n"
     ]
    }
   ],
   "source": [
    "#Sales and Operations Planning Program\n",
    "\n",
    "initial_stock = int(input(\"Please enter an initial stock level:\"))\n",
    "num_months = int(input(\"Please enter number of months to plan\"))\n",
    "    \n",
    "#sales_planned = planned sales quantity for a month\n",
    "sales_planned = []\n",
    "for i in range(num_months):\n",
    "    qty = int(input(f'Please enter planned sales quantity for month  {i+1} = '))\n",
    "    sales_planned.append(qty)\n",
    "\n",
    "#declare list which store result\n",
    "production_quantity = []\n",
    "for item in sales_planned:\n",
    "    if initial_stock > item:\n",
    "        production_quantity.append(0)\n",
    "        initial_stock = initial_stock - item\n",
    "    elif initial_stock < 0:\n",
    "        production_quantity.append(item)\n",
    "    else:\n",
    "        initial_stock = initial_stock - item\n",
    "        production_quantity.append(abs(initial_stock))\n",
    "            \n",
    "print()        \n",
    "#print the result\n",
    "i = 1\n",
    "for x in production_quantity:\n",
    "    print(\"Production quantity month\", i, \" - \", x)\n",
    "    i = i+1"
   ]
  },
  {
   "cell_type": "code",
   "execution_count": null,
   "id": "492f2b48-cdf7-4a7a-b0c0-4ed84b5ae353",
   "metadata": {},
   "outputs": [],
   "source": []
  }
 ],
 "metadata": {
  "kernelspec": {
   "display_name": "Python 3 (ipykernel)",
   "language": "python",
   "name": "python3"
  },
  "language_info": {
   "codemirror_mode": {
    "name": "ipython",
    "version": 3
   },
   "file_extension": ".py",
   "mimetype": "text/x-python",
   "name": "python",
   "nbconvert_exporter": "python",
   "pygments_lexer": "ipython3",
   "version": "3.10.9"
  }
 },
 "nbformat": 4,
 "nbformat_minor": 5
}
